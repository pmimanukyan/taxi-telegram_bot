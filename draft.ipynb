{
 "cells": [
  {
   "cell_type": "code",
   "execution_count": 2,
   "metadata": {},
   "outputs": [],
   "source": [
    "import requests\n",
    "import json"
   ]
  },
  {
   "cell_type": "code",
   "execution_count": 2,
   "metadata": {},
   "outputs": [],
   "source": [
    "main_page = 'https://taxi-routeinfo.taxi.yandex.net/taxi_info?'"
   ]
  },
  {
   "cell_type": "code",
   "execution_count": 3,
   "metadata": {},
   "outputs": [],
   "source": [
    "apikey = 'ZSCWNILFCiMMrpjGtnIJVyTvwMTHAMfywOzqVbRJ'\n",
    "clid = 'ak210712'"
   ]
  },
  {
   "cell_type": "code",
   "execution_count": 11,
   "metadata": {},
   "outputs": [],
   "source": [
    "c1 = '37.282860,55.667203'\n",
    "c2 = '37.280965,55.670737'\n",
    "tariff = 'econom, business,comfortplus,vip'"
   ]
  },
  {
   "cell_type": "code",
   "execution_count": 12,
   "metadata": {},
   "outputs": [],
   "source": [
    "params = 'clid=' + clid + '&apikey=' + apikey + '&rll=' + c1 + '~' + c2 + '&class=' + tariff# + '&req=' + req_str"
   ]
  },
  {
   "cell_type": "code",
   "execution_count": 13,
   "metadata": {},
   "outputs": [],
   "source": [
    "res = main_page + params"
   ]
  },
  {
   "cell_type": "code",
   "execution_count": 14,
   "metadata": {},
   "outputs": [
    {
     "data": {
      "text/plain": [
       "'https://taxi-routeinfo.taxi.yandex.net/taxi_info?clid=ak210712&apikey=ZSCWNILFCiMMrpjGtnIJVyTvwMTHAMfywOzqVbRJ&rll=37.282860,55.667203~37.280965,55.670737&class=econom, business,comfortplus,vip'"
      ]
     },
     "execution_count": 14,
     "metadata": {},
     "output_type": "execute_result"
    }
   ],
   "source": [
    "res"
   ]
  },
  {
   "cell_type": "code",
   "execution_count": 15,
   "metadata": {},
   "outputs": [
    {
     "data": {
      "text/plain": [
       "<Response [200]>"
      ]
     },
     "execution_count": 15,
     "metadata": {},
     "output_type": "execute_result"
    }
   ],
   "source": [
    "response = requests.get(res)\n",
    "response"
   ]
  },
  {
   "cell_type": "code",
   "execution_count": 16,
   "metadata": {
    "scrolled": true
   },
   "outputs": [
    {
     "data": {
      "text/plain": [
       "{'options': [{'price': 159.0,\n",
       "   'min_price': 159.0,\n",
       "   'class_name': 'econom',\n",
       "   'class_text': 'Эконом',\n",
       "   'class_level': 50,\n",
       "   'price_text': '~159\\u202fруб.'},\n",
       "  {'price': 189.0,\n",
       "   'min_price': 189.0,\n",
       "   'class_name': 'business',\n",
       "   'class_text': 'Комфорт',\n",
       "   'class_level': 70,\n",
       "   'price_text': '~189\\u202fруб.'},\n",
       "  {'price': 244.0,\n",
       "   'min_price': 179.0,\n",
       "   'waiting_time': 192.0,\n",
       "   'class_name': 'comfortplus',\n",
       "   'class_text': 'Комфорт+',\n",
       "   'class_level': 80,\n",
       "   'price_text': '~244\\u202fруб.'},\n",
       "  {'price': 399.0,\n",
       "   'min_price': 399.0,\n",
       "   'waiting_time': 410.0,\n",
       "   'class_name': 'vip',\n",
       "   'class_text': 'Business',\n",
       "   'class_level': 90,\n",
       "   'price_text': '~399\\u202fруб.'}],\n",
       " 'currency': 'RUB',\n",
       " 'distance': 982.9750533103942,\n",
       " 'time': 275.1,\n",
       " 'time_text': '5 мин'}"
      ]
     },
     "execution_count": 16,
     "metadata": {},
     "output_type": "execute_result"
    }
   ],
   "source": [
    "response.json()"
   ]
  },
  {
   "cell_type": "code",
   "execution_count": 69,
   "metadata": {},
   "outputs": [
    {
     "name": "stdout",
     "output_type": "stream",
     "text": [
      "Requirement already satisfied: dadata in /opt/anaconda3/lib/python3.8/site-packages (20.7.0)\n",
      "Requirement already satisfied: httpx in /opt/anaconda3/lib/python3.8/site-packages (from dadata) (0.18.2)\n",
      "Requirement already satisfied: rfc3986[idna2008]<2,>=1.3 in /opt/anaconda3/lib/python3.8/site-packages (from httpx->dadata) (1.5.0)\n",
      "Requirement already satisfied: sniffio in /opt/anaconda3/lib/python3.8/site-packages (from httpx->dadata) (1.2.0)\n",
      "Requirement already satisfied: httpcore<0.14.0,>=0.13.3 in /opt/anaconda3/lib/python3.8/site-packages (from httpx->dadata) (0.13.6)\n",
      "Requirement already satisfied: certifi in /opt/anaconda3/lib/python3.8/site-packages (from httpx->dadata) (2020.6.20)\n",
      "Requirement already satisfied: idna; extra == \"idna2008\" in /opt/anaconda3/lib/python3.8/site-packages (from rfc3986[idna2008]<2,>=1.3->httpx->dadata) (2.10)\n",
      "Requirement already satisfied: anyio==3.* in /opt/anaconda3/lib/python3.8/site-packages (from httpcore<0.14.0,>=0.13.3->httpx->dadata) (3.2.1)\n",
      "Requirement already satisfied: h11<0.13,>=0.11 in /opt/anaconda3/lib/python3.8/site-packages (from httpcore<0.14.0,>=0.13.3->httpx->dadata) (0.12.0)\n"
     ]
    }
   ],
   "source": [
    "import sys\n",
    "!{sys.executable} -m pip install dadata"
   ]
  },
  {
   "cell_type": "code",
   "execution_count": 70,
   "metadata": {},
   "outputs": [],
   "source": [
    "from dadata import Dadata\n",
    "token = \"050283b9d90d1224eaa35dbc99ceb5359e5b7bed\"\n",
    "secret = \"0b6e810582c3b3d2a56306f3f9ee35886d497aea\"\n",
    "dadata = Dadata(token, secret)\n",
    "# result1 = dadata.clean(\"address\", \"комсомольская 1\")"
   ]
  },
  {
   "cell_type": "code",
   "execution_count": 71,
   "metadata": {},
   "outputs": [
    {
     "ename": "SyntaxError",
     "evalue": "EOF while scanning triple-quoted string literal (<ipython-input-71-e659de3d09c1>, line 1)",
     "output_type": "error",
     "traceback": [
      "\u001b[0;36m  File \u001b[0;32m\"<ipython-input-71-e659de3d09c1>\"\u001b[0;36m, line \u001b[0;32m1\u001b[0m\n\u001b[0;31m    ''''''''''''''''''''''''''''''''''\u001b[0m\n\u001b[0m                                      ^\u001b[0m\n\u001b[0;31mSyntaxError\u001b[0m\u001b[0;31m:\u001b[0m EOF while scanning triple-quoted string literal\n"
     ]
    }
   ],
   "source": [
    "''''''''''''''''''''''''''''''''''"
   ]
  },
  {
   "cell_type": "code",
   "execution_count": 72,
   "metadata": {},
   "outputs": [],
   "source": [
    "result1 = dadata.clean(\"address\", \"Москва Ветошный переулок 17\")\n",
    "result2 = dadata.clean(\"address\", \"Москва Театральная площадь 2\")"
   ]
  },
  {
   "cell_type": "code",
   "execution_count": 73,
   "metadata": {},
   "outputs": [
    {
     "data": {
      "text/plain": [
       "{'source': 'Москва Ветошный переулок 17',\n",
       " 'result': 'г Москва, пер Ветошный, д 17',\n",
       " 'postal_code': '109012',\n",
       " 'country': 'Россия',\n",
       " 'country_iso_code': 'RU',\n",
       " 'federal_district': 'Центральный',\n",
       " 'region_fias_id': '0c5b2444-70a0-4932-980c-b4dc0d3f02b5',\n",
       " 'region_kladr_id': '7700000000000',\n",
       " 'region_iso_code': 'RU-MOW',\n",
       " 'region_with_type': 'г Москва',\n",
       " 'region_type': 'г',\n",
       " 'region_type_full': 'город',\n",
       " 'region': 'Москва',\n",
       " 'area_fias_id': None,\n",
       " 'area_kladr_id': None,\n",
       " 'area_with_type': None,\n",
       " 'area_type': None,\n",
       " 'area_type_full': None,\n",
       " 'area': None,\n",
       " 'city_fias_id': None,\n",
       " 'city_kladr_id': None,\n",
       " 'city_with_type': None,\n",
       " 'city_type': None,\n",
       " 'city_type_full': None,\n",
       " 'city': None,\n",
       " 'city_area': 'Центральный',\n",
       " 'city_district_fias_id': None,\n",
       " 'city_district_kladr_id': None,\n",
       " 'city_district_with_type': 'р-н Тверской',\n",
       " 'city_district_type': 'р-н',\n",
       " 'city_district_type_full': 'район',\n",
       " 'city_district': 'Тверской',\n",
       " 'settlement_fias_id': None,\n",
       " 'settlement_kladr_id': None,\n",
       " 'settlement_with_type': None,\n",
       " 'settlement_type': None,\n",
       " 'settlement_type_full': None,\n",
       " 'settlement': None,\n",
       " 'street_fias_id': '0934e677-5d22-4798-acdb-b2f343a724a6',\n",
       " 'street_kladr_id': '77000000000707100',\n",
       " 'street_with_type': 'пер Ветошный',\n",
       " 'street_type': 'пер',\n",
       " 'street_type_full': 'переулок',\n",
       " 'street': 'Ветошный',\n",
       " 'house_fias_id': '48c5fe50-f2e2-4f86-9325-ecf0f2848b8b',\n",
       " 'house_kladr_id': '7700000000070710005',\n",
       " 'house_type': 'д',\n",
       " 'house_type_full': 'дом',\n",
       " 'house': '17',\n",
       " 'block_type': None,\n",
       " 'block_type_full': None,\n",
       " 'block': None,\n",
       " 'entrance': None,\n",
       " 'floor': None,\n",
       " 'flat_fias_id': None,\n",
       " 'flat_type': None,\n",
       " 'flat_type_full': None,\n",
       " 'flat': None,\n",
       " 'flat_area': None,\n",
       " 'square_meter_price': None,\n",
       " 'flat_price': None,\n",
       " 'postal_box': None,\n",
       " 'fias_id': '48c5fe50-f2e2-4f86-9325-ecf0f2848b8b',\n",
       " 'fias_code': '77000000000000070710005',\n",
       " 'fias_level': '8',\n",
       " 'fias_actuality_state': '0',\n",
       " 'kladr_id': '7700000000070710005',\n",
       " 'capital_marker': '0',\n",
       " 'okato': '45286585000',\n",
       " 'oktmo': '45382000',\n",
       " 'tax_office': '7710',\n",
       " 'tax_office_legal': '7710',\n",
       " 'timezone': 'UTC+3',\n",
       " 'geo_lat': '55.7548153',\n",
       " 'geo_lon': '37.6228639',\n",
       " 'beltway_hit': 'IN_MKAD',\n",
       " 'beltway_distance': None,\n",
       " 'qc_geo': 0,\n",
       " 'qc_complete': 5,\n",
       " 'qc_house': 2,\n",
       " 'qc': 0,\n",
       " 'unparsed_parts': None,\n",
       " 'metro': [{'distance': 0.2,\n",
       "   'line': 'Арбатско-Покровская',\n",
       "   'name': 'Площадь Революции'},\n",
       "  {'distance': 0.5, 'line': 'Замоскворецкая', 'name': 'Театральная'},\n",
       "  {'distance': 0.6, 'line': 'Сокольническая', 'name': 'Охотный ряд'}]}"
      ]
     },
     "execution_count": 73,
     "metadata": {},
     "output_type": "execute_result"
    }
   ],
   "source": [
    "result1"
   ]
  },
  {
   "cell_type": "code",
   "execution_count": 74,
   "metadata": {},
   "outputs": [
    {
     "data": {
      "text/plain": [
       "{'source': 'Москва Театральная площадь 2',\n",
       " 'result': 'г Москва, пл Театральная, д 2',\n",
       " 'postal_code': '125009',\n",
       " 'country': 'Россия',\n",
       " 'country_iso_code': 'RU',\n",
       " 'federal_district': 'Центральный',\n",
       " 'region_fias_id': '0c5b2444-70a0-4932-980c-b4dc0d3f02b5',\n",
       " 'region_kladr_id': '7700000000000',\n",
       " 'region_iso_code': 'RU-MOW',\n",
       " 'region_with_type': 'г Москва',\n",
       " 'region_type': 'г',\n",
       " 'region_type_full': 'город',\n",
       " 'region': 'Москва',\n",
       " 'area_fias_id': None,\n",
       " 'area_kladr_id': None,\n",
       " 'area_with_type': None,\n",
       " 'area_type': None,\n",
       " 'area_type_full': None,\n",
       " 'area': None,\n",
       " 'city_fias_id': None,\n",
       " 'city_kladr_id': None,\n",
       " 'city_with_type': None,\n",
       " 'city_type': None,\n",
       " 'city_type_full': None,\n",
       " 'city': None,\n",
       " 'city_area': 'Центральный',\n",
       " 'city_district_fias_id': None,\n",
       " 'city_district_kladr_id': None,\n",
       " 'city_district_with_type': 'р-н Тверской',\n",
       " 'city_district_type': 'р-н',\n",
       " 'city_district_type_full': 'район',\n",
       " 'city_district': 'Тверской',\n",
       " 'settlement_fias_id': None,\n",
       " 'settlement_kladr_id': None,\n",
       " 'settlement_with_type': None,\n",
       " 'settlement_type': None,\n",
       " 'settlement_type_full': None,\n",
       " 'settlement': None,\n",
       " 'street_fias_id': 'f6b1c794-77ff-45d9-a763-27d1e0d9ffa9',\n",
       " 'street_kladr_id': '77000000000719200',\n",
       " 'street_with_type': 'пл Театральная',\n",
       " 'street_type': 'пл',\n",
       " 'street_type_full': 'площадь',\n",
       " 'street': 'Театральная',\n",
       " 'house_fias_id': 'd49a0bfd-038e-4c33-a468-26533f296404',\n",
       " 'house_kladr_id': '7700000000071920002',\n",
       " 'house_type': 'д',\n",
       " 'house_type_full': 'дом',\n",
       " 'house': '2',\n",
       " 'block_type': None,\n",
       " 'block_type_full': None,\n",
       " 'block': None,\n",
       " 'entrance': None,\n",
       " 'floor': None,\n",
       " 'flat_fias_id': None,\n",
       " 'flat_type': None,\n",
       " 'flat_type_full': None,\n",
       " 'flat': None,\n",
       " 'flat_area': '53.7',\n",
       " 'square_meter_price': None,\n",
       " 'flat_price': None,\n",
       " 'postal_box': None,\n",
       " 'fias_id': 'd49a0bfd-038e-4c33-a468-26533f296404',\n",
       " 'fias_code': '77000000000000071920002',\n",
       " 'fias_level': '8',\n",
       " 'fias_actuality_state': '0',\n",
       " 'kladr_id': '7700000000071920002',\n",
       " 'capital_marker': '0',\n",
       " 'okato': '45286585000',\n",
       " 'oktmo': '45382000',\n",
       " 'tax_office': '7707',\n",
       " 'tax_office_legal': '7707',\n",
       " 'timezone': 'UTC+3',\n",
       " 'geo_lat': '55.7588884',\n",
       " 'geo_lon': '37.6173035',\n",
       " 'beltway_hit': 'IN_MKAD',\n",
       " 'beltway_distance': None,\n",
       " 'qc_geo': 0,\n",
       " 'qc_complete': 5,\n",
       " 'qc_house': 2,\n",
       " 'qc': 0,\n",
       " 'unparsed_parts': None,\n",
       " 'metro': [{'distance': 0.0, 'line': 'Замоскворецкая', 'name': 'Театральная'},\n",
       "  {'distance': 0.2, 'line': 'Сокольническая', 'name': 'Охотный ряд'},\n",
       "  {'distance': 0.4,\n",
       "   'line': 'Арбатско-Покровская',\n",
       "   'name': 'Площадь Революции'}]}"
      ]
     },
     "execution_count": 74,
     "metadata": {},
     "output_type": "execute_result"
    }
   ],
   "source": [
    "result2"
   ]
  },
  {
   "cell_type": "code",
   "execution_count": 75,
   "metadata": {},
   "outputs": [
    {
     "data": {
      "text/plain": [
       "('37.6228639', '55.7548153')"
      ]
     },
     "execution_count": 75,
     "metadata": {},
     "output_type": "execute_result"
    }
   ],
   "source": [
    "lon1 = result1['geo_lon']\n",
    "lat1 = result1['geo_lat']\n",
    "lon1, lat1"
   ]
  },
  {
   "cell_type": "code",
   "execution_count": 76,
   "metadata": {},
   "outputs": [
    {
     "data": {
      "text/plain": [
       "('37.6173035', '55.7588884')"
      ]
     },
     "execution_count": 76,
     "metadata": {},
     "output_type": "execute_result"
    }
   ],
   "source": [
    "lon2 = result2['geo_lon']\n",
    "lat2 = result2['geo_lat']\n",
    "lon2, lat2"
   ]
  },
  {
   "cell_type": "code",
   "execution_count": null,
   "metadata": {},
   "outputs": [],
   "source": []
  },
  {
   "cell_type": "code",
   "execution_count": 77,
   "metadata": {},
   "outputs": [],
   "source": [
    "c1 = lon1 + ',' + lat1\n",
    "c2 = lon2 + ',' + lat2"
   ]
  },
  {
   "cell_type": "code",
   "execution_count": 78,
   "metadata": {},
   "outputs": [],
   "source": [
    "params = 'clid=' + clid + '&apikey=' + apikey + '&rll=' + c1 + '~' + c2 #+ '&class=' + class_str + '&req=' + req_str"
   ]
  },
  {
   "cell_type": "code",
   "execution_count": 79,
   "metadata": {},
   "outputs": [],
   "source": [
    "res = main_page + params"
   ]
  },
  {
   "cell_type": "code",
   "execution_count": 80,
   "metadata": {},
   "outputs": [],
   "source": [
    "response = requests.get(res)"
   ]
  },
  {
   "cell_type": "code",
   "execution_count": 81,
   "metadata": {},
   "outputs": [
    {
     "data": {
      "text/plain": [
       "{'options': [{'price': 324.0,\n",
       "   'min_price': 299.0,\n",
       "   'waiting_time': 453.0,\n",
       "   'class_name': 'econom',\n",
       "   'class_text': 'Эконом',\n",
       "   'class_level': 50,\n",
       "   'price_text': '~324\\u202fруб.'}],\n",
       " 'currency': 'RUB',\n",
       " 'distance': 3706.8143663406354,\n",
       " 'time': 452.35,\n",
       " 'time_text': '8 мин'}"
      ]
     },
     "execution_count": 81,
     "metadata": {},
     "output_type": "execute_result"
    }
   ],
   "source": [
    "response.json()"
   ]
  },
  {
   "cell_type": "code",
   "execution_count": 82,
   "metadata": {},
   "outputs": [
    {
     "name": "stdout",
     "output_type": "stream",
     "text": [
      "Requirement already satisfied: selenium in /opt/anaconda3/lib/python3.8/site-packages (3.141.0)\r\n",
      "Requirement already satisfied: urllib3 in /opt/anaconda3/lib/python3.8/site-packages (from selenium) (1.25.9)\r\n"
     ]
    }
   ],
   "source": [
    "!{sys.executable} -m pip install selenium"
   ]
  },
  {
   "cell_type": "code",
   "execution_count": 83,
   "metadata": {},
   "outputs": [],
   "source": [
    "from selenium import webdriver\n",
    "import time"
   ]
  },
  {
   "cell_type": "code",
   "execution_count": 84,
   "metadata": {},
   "outputs": [],
   "source": [
    "first_adress = result1['result']\n",
    "second_adress = result2['result']\n",
    "driver = webdriver.Chrome()\n",
    "driver.get('https://city-mobil.ru')\n",
    "time.sleep(1)\n",
    "driver.find_element_by_class_name('Button_button__2WaUX').click()\n",
    "time.sleep(1)\n",
    "driver.find_element_by_class_name('Button_button__2sv0Y').click()\n",
    "time.sleep(1)\n",
    "input = driver.find_elements_by_class_name('mtw-input')\n",
    "input[0].send_keys(first_adress)\n",
    "time.sleep(1)\n",
    "from_ = driver.find_elements_by_class_name('svelte-1e1mlwx')\n",
    "from_[1].click()\n",
    "time.sleep(1)\n",
    "\n",
    "input[1].send_keys(second_adress)\n",
    "time.sleep(1)\n",
    "to_ = driver.find_elements_by_class_name('svelte-1e1mlwx')\n",
    "to_[1].click()\n",
    "time.sleep(1)\n",
    "price = driver.find_elements_by_class_name('mtw-tariff-price')"
   ]
  },
  {
   "cell_type": "code",
   "execution_count": 85,
   "metadata": {},
   "outputs": [
    {
     "name": "stdout",
     "output_type": "stream",
     "text": [
      "Яндекс такси 324р\n",
      "Ситимобил 347р\n"
     ]
    }
   ],
   "source": [
    "print('Яндекс такси', str(int(response.json()['options'][0]['price']))+'р')\n",
    "print('Ситимобил', price[0].text)"
   ]
  },
  {
   "cell_type": "code",
   "execution_count": 65,
   "metadata": {},
   "outputs": [],
   "source": [
    "def get_yandex_address(coordinates):\n",
    "    apikey = 'c385a51c-d7f0-4cfb-8727-d01ef0e065e0'\n",
    "    main_page = 'https://geocode-maps.yandex.ru/1.x/?'\n",
    "    params = f'format=json&apikey={apikey}&geocode={coordinates}'\n",
    "    page = main_page + params\n",
    "    response = requests.get(page)\n",
    "    address = response.json()['response']['GeoObjectCollection']['featureMember'][0]['GeoObject']['metaDataProperty']['GeocoderMetaData']['AddressDetails']['Country']['AddressLine']\n",
    "    return address"
   ]
  },
  {
   "cell_type": "code",
   "execution_count": 68,
   "metadata": {},
   "outputs": [
    {
     "data": {
      "text/plain": [
       "'Россия, Москва, Большой Знаменский переулок, 23'"
      ]
     },
     "execution_count": 68,
     "metadata": {},
     "output_type": "execute_result"
    }
   ],
   "source": [
    "get_yandex_address('37.603595 55.749912')"
   ]
  },
  {
   "cell_type": "code",
   "execution_count": 60,
   "metadata": {},
   "outputs": [
    {
     "data": {
      "text/plain": [
       "'Россия, Московская область, Одинцово, Комсомольская улица, 1'"
      ]
     },
     "execution_count": 60,
     "metadata": {},
     "output_type": "execute_result"
    }
   ],
   "source": []
  },
  {
   "cell_type": "code",
   "execution_count": 72,
   "metadata": {},
   "outputs": [
    {
     "name": "stdout",
     "output_type": "stream",
     "text": [
      "{'options': [{'price': 649.0, 'min_price': 659.0, 'waiting_time': 374.0, 'class_name': 'vip', 'class_text': 'Business', 'class_level': 90, 'price_text': '~659\\u202fруб.'}], 'currency': 'RUB', 'distance': 3668.8288877010345, 'time': 543.9100000000001, 'time_text': '10 мин'}\n"
     ]
    }
   ],
   "source": [
    "\n",
    "def get_yandex_coordinates(address):\n",
    "    apikey = 'c385a51c-d7f0-4cfb-8727-d01ef0e065e0'\n",
    "    main_page = 'https://geocode-maps.yandex.ru/1.x/?'\n",
    "    params = f'format=json&apikey={apikey}&geocode={address}'\n",
    "    page = main_page + params\n",
    "    response = requests.get(page)\n",
    "    coordinates = response.json()['response']['GeoObjectCollection']['featureMember'][0]['GeoObject']['Point']['pos']\n",
    "    lon, lat = coordinates.split()\n",
    "    return f'{lon},{lat}'\n",
    "\n",
    "\n",
    "def get_yandex_address(coordinates):\n",
    "    apikey = 'c385a51c-d7f0-4cfb-8727-d01ef0e065e0'\n",
    "    main_page = 'https://geocode-maps.yandex.ru/1.x/?'\n",
    "    params = f'format=json&apikey={apikey}&geocode={coordinates}'\n",
    "    page = main_page + params\n",
    "    response = requests.get(page)\n",
    "    address = response.json()['response']['GeoObjectCollection']['featureMember'][0]['GeoObject']['metaDataProperty']['GeocoderMetaData']['AddressDetails']['Country']['AddressLine']\n",
    "    return address\n",
    "\n",
    "\n",
    "def get_correct_address(address):\n",
    "    coordinates = get_yandex_coordinates(address)\n",
    "    return get_yandex_address(coordinates)\n",
    "\n",
    "\n",
    "def get_yandextaxi_price(taxi_class, address_from, address_to):\n",
    "    apikey = 'ZSCWNILFCiMMrpjGtnIJVyTvwMTHAMfywOzqVbRJ'\n",
    "    clid = 'ak210712'\n",
    "    geo_from = get_yandex_coordinates(address_from)\n",
    "    geo_to = get_yandex_coordinates(address_to)\n",
    "    main_page = 'https://taxi-routeinfo.taxi.yandex.net/taxi_info?'\n",
    "    params = f'clid={clid}&apikey={apikey}&rll={geo_from}~{geo_to}&class={taxi_class}'\n",
    "    page = main_page + params\n",
    "    response = requests.get(page)\n",
    "    return response.json()\n",
    "\n",
    "print(get_yandextaxi_price('vip', 'Москва комсомольская 1', 'москва покровский бульвар 11'))"
   ]
  },
  {
   "cell_type": "code",
   "execution_count": null,
   "metadata": {},
   "outputs": [],
   "source": []
  }
 ],
 "metadata": {
  "kernelspec": {
   "display_name": "Python 3",
   "language": "python",
   "name": "python3"
  },
  "language_info": {
   "codemirror_mode": {
    "name": "ipython",
    "version": 3
   },
   "file_extension": ".py",
   "mimetype": "text/x-python",
   "name": "python",
   "nbconvert_exporter": "python",
   "pygments_lexer": "ipython3",
   "version": "3.8.3"
  }
 },
 "nbformat": 4,
 "nbformat_minor": 4
}
